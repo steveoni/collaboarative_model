{
  "nbformat": 4,
  "nbformat_minor": 0,
  "metadata": {
    "colab": {
      "name": "Netflix_recom.ipynb",
      "version": "0.3.2",
      "provenance": [],
      "collapsed_sections": [],
      "include_colab_link": true
    },
    "kernelspec": {
      "name": "python3",
      "display_name": "Python 3"
    },
    "accelerator": "GPU"
  },
  "cells": [
    {
      "cell_type": "markdown",
      "metadata": {
        "id": "view-in-github",
        "colab_type": "text"
      },
      "source": [
        "<a href=\"https://colab.research.google.com/github/steveoni/collaboarative_model/blob/master/Netflix_recom.ipynb\" target=\"_parent\"><img src=\"https://colab.research.google.com/assets/colab-badge.svg\" alt=\"Open In Colab\"/></a>"
      ]
    },
    {
      "cell_type": "code",
      "metadata": {
        "id": "KBqwwyPHe0BW",
        "colab_type": "code",
        "outputId": "171176a7-4bc7-48ce-dcb8-65b6c09ad62a",
        "colab": {
          "base_uri": "https://localhost:8080/",
          "height": 204
        }
      },
      "source": [
        "! pip install kaggle --upgrade"
      ],
      "execution_count": 0,
      "outputs": [
        {
          "output_type": "stream",
          "text": [
            "Requirement already up-to-date: kaggle in /usr/local/lib/python3.6/dist-packages (1.5.3)\n",
            "Requirement already satisfied, skipping upgrade: six>=1.10 in /usr/local/lib/python3.6/dist-packages (from kaggle) (1.12.0)\n",
            "Requirement already satisfied, skipping upgrade: tqdm in /usr/local/lib/python3.6/dist-packages (from kaggle) (4.28.1)\n",
            "Requirement already satisfied, skipping upgrade: urllib3<1.25,>=1.21.1 in /usr/local/lib/python3.6/dist-packages (from kaggle) (1.24.3)\n",
            "Requirement already satisfied, skipping upgrade: requests in /usr/local/lib/python3.6/dist-packages (from kaggle) (2.21.0)\n",
            "Requirement already satisfied, skipping upgrade: certifi in /usr/local/lib/python3.6/dist-packages (from kaggle) (2019.3.9)\n",
            "Requirement already satisfied, skipping upgrade: python-slugify in /usr/local/lib/python3.6/dist-packages (from kaggle) (3.0.2)\n",
            "Requirement already satisfied, skipping upgrade: python-dateutil in /usr/local/lib/python3.6/dist-packages (from kaggle) (2.5.3)\n",
            "Requirement already satisfied, skipping upgrade: idna<2.9,>=2.5 in /usr/local/lib/python3.6/dist-packages (from requests->kaggle) (2.8)\n",
            "Requirement already satisfied, skipping upgrade: chardet<3.1.0,>=3.0.2 in /usr/local/lib/python3.6/dist-packages (from requests->kaggle) (3.0.4)\n",
            "Requirement already satisfied, skipping upgrade: text-unidecode==1.2 in /usr/local/lib/python3.6/dist-packages (from python-slugify->kaggle) (1.2)\n"
          ],
          "name": "stdout"
        }
      ]
    },
    {
      "cell_type": "code",
      "metadata": {
        "id": "DoQ9enHde_b8",
        "colab_type": "code",
        "colab": {}
      },
      "source": [
        "! mkdir -p ~/.kaggle/\n",
        "! mv kaggle.json ~/.kaggle/\n"
      ],
      "execution_count": 0,
      "outputs": []
    },
    {
      "cell_type": "code",
      "metadata": {
        "id": "tiQmEklvhBHw",
        "colab_type": "code",
        "colab": {}
      },
      "source": [
        "path = \"~/\""
      ],
      "execution_count": 0,
      "outputs": []
    },
    {
      "cell_type": "code",
      "metadata": {
        "id": "qj5aHkdggDZY",
        "colab_type": "code",
        "outputId": "d68f715f-c647-4e00-d09f-6aa319b7cf6e",
        "colab": {
          "base_uri": "https://localhost:8080/",
          "height": 85
        }
      },
      "source": [
        "! kaggle datasets download -d netflix-inc/netflix-prize-data"
      ],
      "execution_count": 3,
      "outputs": [
        {
          "output_type": "stream",
          "text": [
            "Warning: Your Kaggle API key is readable by other users on this system! To fix this, you can run 'chmod 600 /root/.kaggle/kaggle.json'\n",
            "Downloading netflix-prize-data.zip to /content\n",
            " 99% 673M/682M [00:20<00:00, 21.3MB/s]\n",
            "100% 682M/682M [00:20<00:00, 35.0MB/s]\n"
          ],
          "name": "stdout"
        }
      ]
    },
    {
      "cell_type": "code",
      "metadata": {
        "id": "uxzNCio1hOuV",
        "colab_type": "code",
        "colab": {}
      },
      "source": [
        "! unzip -q -n netflix-prize-data.zip"
      ],
      "execution_count": 0,
      "outputs": []
    },
    {
      "cell_type": "code",
      "metadata": {
        "id": "se1kDwbNhqAU",
        "colab_type": "code",
        "colab": {}
      },
      "source": [
        "import pandas as pd\n",
        "import numpy as np\n",
        "import math"
      ],
      "execution_count": 0,
      "outputs": []
    },
    {
      "cell_type": "markdown",
      "metadata": {
        "id": "lxPRCH7YazWZ",
        "colab_type": "text"
      },
      "source": [
        "**Data Gathering and cleaning**"
      ]
    },
    {
      "cell_type": "code",
      "metadata": {
        "id": "kNvxxzPoiKcK",
        "colab_type": "code",
        "outputId": "d5571d81-5f20-4579-c749-9d4570e7d0cb",
        "colab": {
          "base_uri": "https://localhost:8080/",
          "height": 153
        }
      },
      "source": [
        "df1 = pd.read_csv('combined_data_1.txt', header = None, names = ['Cust_Id', 'Rating'], usecols = [0,1])\n",
        "\n",
        "df1['Rating'] = df1['Rating'].astype(float)\n",
        "\n",
        "print('Dataset 1 shape: {}'.format(df1.shape))\n",
        "print('-Dataset examples-')\n",
        "print(df1.iloc[::5000000, :])"
      ],
      "execution_count": 6,
      "outputs": [
        {
          "output_type": "stream",
          "text": [
            "Dataset 1 shape: (24058263, 2)\n",
            "-Dataset examples-\n",
            "          Cust_Id  Rating\n",
            "0              1:     NaN\n",
            "5000000   2560324     4.0\n",
            "10000000  2271935     2.0\n",
            "15000000  1921803     2.0\n",
            "20000000  1933327     3.0\n"
          ],
          "name": "stdout"
        }
      ]
    },
    {
      "cell_type": "code",
      "metadata": {
        "id": "qV91KB84iYHu",
        "colab_type": "code",
        "outputId": "e97e65e4-f822-4a82-8c03-bd4d9e4a3e54",
        "colab": {
          "base_uri": "https://localhost:8080/",
          "height": 51
        }
      },
      "source": [
        "df = df1.copy()\n",
        "df_nan = pd.DataFrame(pd.isnull(df.Rating))\n",
        "df_nan = df_nan[df_nan['Rating'] == True]\n",
        "df_nan = df_nan.reset_index()\n",
        "\n",
        "movie_np = []\n",
        "movie_id = 1\n",
        "\n",
        "for i,j in zip(df_nan['index'][1:],df_nan['index'][:-1]):\n",
        "    # numpy approach\n",
        "    temp = np.full((1,i-j-1), movie_id)\n",
        "    movie_np = np.append(movie_np, temp)\n",
        "    movie_id += 1\n",
        "\n",
        "# Account for last record and corresponding length\n",
        "# numpy approach\n",
        "last_record = np.full((1,len(df) - df_nan.iloc[-1, 0] - 1),movie_id)\n",
        "movie_np = np.append(movie_np, last_record)\n",
        "\n",
        "print('Movie numpy: {}'.format(movie_np))\n",
        "print('Length: {}'.format(len(movie_np)))"
      ],
      "execution_count": 8,
      "outputs": [
        {
          "output_type": "stream",
          "text": [
            "Movie numpy: [1.000e+00 1.000e+00 1.000e+00 ... 4.499e+03 4.499e+03 4.499e+03]\n",
            "Length: 24053764\n"
          ],
          "name": "stdout"
        }
      ]
    },
    {
      "cell_type": "code",
      "metadata": {
        "id": "JT1mjI_Yi2o8",
        "colab_type": "code",
        "outputId": "7c92cd10-12f4-4fcd-ff35-3bc94247bb22",
        "colab": {
          "base_uri": "https://localhost:8080/",
          "height": 136
        }
      },
      "source": [
        "df = df[pd.notnull(df['Rating'])]\n",
        "\n",
        "df['Movie_Id'] = movie_np.astype(int)\n",
        "df['Cust_Id'] = df['Cust_Id'].astype(int)\n",
        "print('-Dataset examples-')\n",
        "print(df.iloc[::5000000, :])"
      ],
      "execution_count": 9,
      "outputs": [
        {
          "output_type": "stream",
          "text": [
            "-Dataset examples-\n",
            "          Cust_Id  Rating  Movie_Id\n",
            "1         1488844     3.0         1\n",
            "5000996    501954     2.0       996\n",
            "10001962   404654     5.0      1962\n",
            "15002876   886608     2.0      2876\n",
            "20003825  1193835     2.0      3825\n"
          ],
          "name": "stdout"
        }
      ]
    },
    {
      "cell_type": "code",
      "metadata": {
        "id": "Z8Ug98aijjej",
        "colab_type": "code",
        "outputId": "5271959f-840c-442c-c734-24fc682a3e05",
        "colab": {
          "base_uri": "https://localhost:8080/",
          "height": 204
        }
      },
      "source": [
        "\n",
        "df_title = pd.read_csv('movie_titles.csv', encoding = \"ISO-8859-1\", header = None, names = ['Movie_Id', 'Year', 'Name'])\n",
        "# df_title.set_index('Movie_Id', inplace = True)\n",
        "print (df_title.head(10))"
      ],
      "execution_count": 10,
      "outputs": [
        {
          "output_type": "stream",
          "text": [
            "   Movie_Id    Year                          Name\n",
            "0         1  2003.0               Dinosaur Planet\n",
            "1         2  2004.0    Isle of Man TT 2004 Review\n",
            "2         3  1997.0                     Character\n",
            "3         4  1994.0  Paula Abdul's Get Up & Dance\n",
            "4         5  2004.0      The Rise and Fall of ECW\n",
            "5         6  1997.0                          Sick\n",
            "6         7  1992.0                         8 Man\n",
            "7         8  2004.0    What the #$*! Do We Know!?\n",
            "8         9  1991.0      Class of Nuke 'Em High 2\n",
            "9        10  2001.0                       Fighter\n"
          ],
          "name": "stdout"
        }
      ]
    },
    {
      "cell_type": "code",
      "metadata": {
        "id": "ZuKr0qL_kKTt",
        "colab_type": "code",
        "colab": {}
      },
      "source": [
        "ratings = df.merge(df_title[['Movie_Id','Name']])"
      ],
      "execution_count": 0,
      "outputs": []
    },
    {
      "cell_type": "markdown",
      "metadata": {
        "id": "EXTBxPPga8vK",
        "colab_type": "text"
      },
      "source": [
        "since the dataset is about  hundrend of millions , i take the subset of 900k"
      ]
    },
    {
      "cell_type": "code",
      "metadata": {
        "id": "iZpB0VAhOb2V",
        "colab_type": "code",
        "colab": {}
      },
      "source": [
        "ratings = ratings.iloc[:900000,:]"
      ],
      "execution_count": 0,
      "outputs": []
    },
    {
      "cell_type": "code",
      "metadata": {
        "id": "2KCSultEkYtw",
        "colab_type": "code",
        "outputId": "cc5abc5f-b503-47b4-b0ca-be84436efeb9",
        "colab": {
          "base_uri": "https://localhost:8080/",
          "height": 359
        }
      },
      "source": [
        "ratings.head(10)"
      ],
      "execution_count": 12,
      "outputs": [
        {
          "output_type": "execute_result",
          "data": {
            "text/html": [
              "<div>\n",
              "<style scoped>\n",
              "    .dataframe tbody tr th:only-of-type {\n",
              "        vertical-align: middle;\n",
              "    }\n",
              "\n",
              "    .dataframe tbody tr th {\n",
              "        vertical-align: top;\n",
              "    }\n",
              "\n",
              "    .dataframe thead th {\n",
              "        text-align: right;\n",
              "    }\n",
              "</style>\n",
              "<table border=\"1\" class=\"dataframe\">\n",
              "  <thead>\n",
              "    <tr style=\"text-align: right;\">\n",
              "      <th></th>\n",
              "      <th>Cust_Id</th>\n",
              "      <th>Rating</th>\n",
              "      <th>Movie_Id</th>\n",
              "      <th>Name</th>\n",
              "    </tr>\n",
              "  </thead>\n",
              "  <tbody>\n",
              "    <tr>\n",
              "      <th>0</th>\n",
              "      <td>1488844</td>\n",
              "      <td>3.0</td>\n",
              "      <td>1</td>\n",
              "      <td>Dinosaur Planet</td>\n",
              "    </tr>\n",
              "    <tr>\n",
              "      <th>1</th>\n",
              "      <td>822109</td>\n",
              "      <td>5.0</td>\n",
              "      <td>1</td>\n",
              "      <td>Dinosaur Planet</td>\n",
              "    </tr>\n",
              "    <tr>\n",
              "      <th>2</th>\n",
              "      <td>885013</td>\n",
              "      <td>4.0</td>\n",
              "      <td>1</td>\n",
              "      <td>Dinosaur Planet</td>\n",
              "    </tr>\n",
              "    <tr>\n",
              "      <th>3</th>\n",
              "      <td>30878</td>\n",
              "      <td>4.0</td>\n",
              "      <td>1</td>\n",
              "      <td>Dinosaur Planet</td>\n",
              "    </tr>\n",
              "    <tr>\n",
              "      <th>4</th>\n",
              "      <td>823519</td>\n",
              "      <td>3.0</td>\n",
              "      <td>1</td>\n",
              "      <td>Dinosaur Planet</td>\n",
              "    </tr>\n",
              "    <tr>\n",
              "      <th>5</th>\n",
              "      <td>893988</td>\n",
              "      <td>3.0</td>\n",
              "      <td>1</td>\n",
              "      <td>Dinosaur Planet</td>\n",
              "    </tr>\n",
              "    <tr>\n",
              "      <th>6</th>\n",
              "      <td>124105</td>\n",
              "      <td>4.0</td>\n",
              "      <td>1</td>\n",
              "      <td>Dinosaur Planet</td>\n",
              "    </tr>\n",
              "    <tr>\n",
              "      <th>7</th>\n",
              "      <td>1248029</td>\n",
              "      <td>3.0</td>\n",
              "      <td>1</td>\n",
              "      <td>Dinosaur Planet</td>\n",
              "    </tr>\n",
              "    <tr>\n",
              "      <th>8</th>\n",
              "      <td>1842128</td>\n",
              "      <td>4.0</td>\n",
              "      <td>1</td>\n",
              "      <td>Dinosaur Planet</td>\n",
              "    </tr>\n",
              "    <tr>\n",
              "      <th>9</th>\n",
              "      <td>2238063</td>\n",
              "      <td>3.0</td>\n",
              "      <td>1</td>\n",
              "      <td>Dinosaur Planet</td>\n",
              "    </tr>\n",
              "  </tbody>\n",
              "</table>\n",
              "</div>"
            ],
            "text/plain": [
              "   Cust_Id  Rating  Movie_Id             Name\n",
              "0  1488844     3.0         1  Dinosaur Planet\n",
              "1   822109     5.0         1  Dinosaur Planet\n",
              "2   885013     4.0         1  Dinosaur Planet\n",
              "3    30878     4.0         1  Dinosaur Planet\n",
              "4   823519     3.0         1  Dinosaur Planet\n",
              "5   893988     3.0         1  Dinosaur Planet\n",
              "6   124105     4.0         1  Dinosaur Planet\n",
              "7  1248029     3.0         1  Dinosaur Planet\n",
              "8  1842128     4.0         1  Dinosaur Planet\n",
              "9  2238063     3.0         1  Dinosaur Planet"
            ]
          },
          "metadata": {
            "tags": []
          },
          "execution_count": 12
        }
      ]
    },
    {
      "cell_type": "code",
      "metadata": {
        "id": "E0ntG5pCkuj5",
        "colab_type": "code",
        "outputId": "357b96cc-51eb-46a1-f9e1-9da2a9b11bb4",
        "colab": {
          "base_uri": "https://localhost:8080/",
          "height": 119
        }
      },
      "source": [
        "print(ratings.iloc[::5000000, :])"
      ],
      "execution_count": 13,
      "outputs": [
        {
          "output_type": "stream",
          "text": [
            "          Cust_Id  Rating  Movie_Id                  Name\n",
            "0         1488844     3.0         1       Dinosaur Planet\n",
            "5000000    501954     2.0       996               Yojimbo\n",
            "10000000   404654     5.0      1962        50 First Dates\n",
            "15000000   886608     2.0      2876      Addicted to Love\n",
            "20000000  1193835     2.0      3825  The Sum of All Fears\n"
          ],
          "name": "stdout"
        }
      ]
    },
    {
      "cell_type": "markdown",
      "metadata": {
        "id": "zqmqfJQ7bRFA",
        "colab_type": "text"
      },
      "source": [
        "import fastai library"
      ]
    },
    {
      "cell_type": "code",
      "metadata": {
        "id": "PYMwukDIkz75",
        "colab_type": "code",
        "colab": {}
      },
      "source": [
        "from fastai.collab import *\n",
        "from fastai.tabular import *"
      ],
      "execution_count": 0,
      "outputs": []
    },
    {
      "cell_type": "code",
      "metadata": {
        "id": "x6eDpYcYlDyV",
        "colab_type": "code",
        "colab": {}
      },
      "source": [
        "data = CollabDataBunch.from_df(ratings, seed=42, valid_pct=0.1, item_name=\"Name\",user_name=\"Cust_Id\",rating_name=\"Rating\")"
      ],
      "execution_count": 0,
      "outputs": []
    },
    {
      "cell_type": "code",
      "metadata": {
        "id": "NRPNqkpqlSp9",
        "colab_type": "code",
        "outputId": "efaba8ce-5410-46f3-92f2-04d10a5c2713",
        "colab": {
          "base_uri": "https://localhost:8080/",
          "height": 204
        }
      },
      "source": [
        "data.show_batch()"
      ],
      "execution_count": 81,
      "outputs": [
        {
          "output_type": "display_data",
          "data": {
            "text/html": [
              "<table border=\"1\" class=\"dataframe\">\n",
              "  <thead>\n",
              "    <tr style=\"text-align: right;\">\n",
              "      <th>Cust_Id</th>\n",
              "      <th>Name</th>\n",
              "      <th>target</th>\n",
              "    </tr>\n",
              "  </thead>\n",
              "  <tbody>\n",
              "    <tr>\n",
              "      <td>1925195</td>\n",
              "      <td>Sweet November</td>\n",
              "      <td>3.0</td>\n",
              "    </tr>\n",
              "    <tr>\n",
              "      <td>851231</td>\n",
              "      <td>Record of Lodoss War: Chronicles of the Heroic Knight</td>\n",
              "      <td>2.0</td>\n",
              "    </tr>\n",
              "    <tr>\n",
              "      <td>260445</td>\n",
              "      <td>What the #$*! Do We Know!?</td>\n",
              "      <td>1.0</td>\n",
              "    </tr>\n",
              "    <tr>\n",
              "      <td>1561857</td>\n",
              "      <td>X2: X-Men United</td>\n",
              "      <td>4.0</td>\n",
              "    </tr>\n",
              "    <tr>\n",
              "      <td>1458665</td>\n",
              "      <td>Taking Lives</td>\n",
              "      <td>5.0</td>\n",
              "    </tr>\n",
              "  </tbody>\n",
              "</table>"
            ],
            "text/plain": [
              "<IPython.core.display.HTML object>"
            ]
          },
          "metadata": {
            "tags": []
          }
        }
      ]
    },
    {
      "cell_type": "code",
      "metadata": {
        "id": "_pWSqyqTXWKf",
        "colab_type": "code",
        "colab": {
          "base_uri": "https://localhost:8080/",
          "height": 34
        },
        "outputId": "af40847b-5ccf-4cbc-dd86-6ba10dbe0346"
      },
      "source": [
        "ratings[\"Cust_Id\"].nunique()"
      ],
      "execution_count": 83,
      "outputs": [
        {
          "output_type": "execute_result",
          "data": {
            "text/plain": [
              "276097"
            ]
          },
          "metadata": {
            "tags": []
          },
          "execution_count": 83
        }
      ]
    },
    {
      "cell_type": "code",
      "metadata": {
        "id": "qVC95yYGldjs",
        "colab_type": "code",
        "colab": {}
      },
      "source": [
        "y_range = [0.5,5.5] # make the sigmoid output a little smaller and higher than the normal rating output"
      ],
      "execution_count": 0,
      "outputs": []
    },
    {
      "cell_type": "code",
      "metadata": {
        "id": "xIucLr4XNcr_",
        "colab_type": "code",
        "colab": {}
      },
      "source": [
        "learn = collab_learner(data, n_factors=50, y_range=y_range, wd=1e-1)"
      ],
      "execution_count": 0,
      "outputs": []
    },
    {
      "cell_type": "code",
      "metadata": {
        "id": "mWzEK9imNik2",
        "colab_type": "code",
        "colab": {
          "base_uri": "https://localhost:8080/",
          "height": 300
        },
        "outputId": "5336fb4a-f854-4bf4-92bc-fc63fda15aa3"
      },
      "source": [
        "learn.lr_find()\n",
        "learn.recorder.plot(skip_end=15)"
      ],
      "execution_count": 86,
      "outputs": [
        {
          "output_type": "display_data",
          "data": {
            "text/html": [
              ""
            ],
            "text/plain": [
              "<IPython.core.display.HTML object>"
            ]
          },
          "metadata": {
            "tags": []
          }
        },
        {
          "output_type": "stream",
          "text": [
            "LR Finder is complete, type {learner_name}.recorder.plot() to see the graph.\n"
          ],
          "name": "stdout"
        },
        {
          "output_type": "display_data",
          "data": {
            "image/png": "[encoded data removed]",
            "text/plain": [
              "<Figure size 432x288 with 1 Axes>"
            ]
          },
          "metadata": {
            "tags": []
          }
        }
      ]
    },
    {
      "cell_type": "code",
      "metadata": {
        "id": "LCYV0OeiNlXe",
        "colab_type": "code",
        "colab": {
          "base_uri": "https://localhost:8080/",
          "height": 235
        },
        "outputId": "58f37a2e-fa57-499b-8c25-b7198592e546"
      },
      "source": [
        "learn.fit_one_cycle(6, 5e-2)"
      ],
      "execution_count": 87,
      "outputs": [
        {
          "output_type": "display_data",
          "data": {
            "text/html": [
              "<table border=\"1\" class=\"dataframe\">\n",
              "  <thead>\n",
              "    <tr style=\"text-align: left;\">\n",
              "      <th>epoch</th>\n",
              "      <th>train_loss</th>\n",
              "      <th>valid_loss</th>\n",
              "      <th>time</th>\n",
              "    </tr>\n",
              "  </thead>\n",
              "  <tbody>\n",
              "    <tr>\n",
              "      <td>0</td>\n",
              "      <td>1.032733</td>\n",
              "      <td>1.032932</td>\n",
              "      <td>01:53</td>\n",
              "    </tr>\n",
              "    <tr>\n",
              "      <td>1</td>\n",
              "      <td>1.048324</td>\n",
              "      <td>1.084774</td>\n",
              "      <td>01:50</td>\n",
              "    </tr>\n",
              "    <tr>\n",
              "      <td>2</td>\n",
              "      <td>1.060365</td>\n",
              "      <td>1.054674</td>\n",
              "      <td>01:50</td>\n",
              "    </tr>\n",
              "    <tr>\n",
              "      <td>3</td>\n",
              "      <td>1.029518</td>\n",
              "      <td>1.019010</td>\n",
              "      <td>01:51</td>\n",
              "    </tr>\n",
              "    <tr>\n",
              "      <td>4</td>\n",
              "      <td>0.994851</td>\n",
              "      <td>0.990677</td>\n",
              "      <td>01:51</td>\n",
              "    </tr>\n",
              "    <tr>\n",
              "      <td>5</td>\n",
              "      <td>0.945098</td>\n",
              "      <td>0.952066</td>\n",
              "      <td>01:53</td>\n",
              "    </tr>\n",
              "  </tbody>\n",
              "</table>"
            ],
            "text/plain": [
              "<IPython.core.display.HTML object>"
            ]
          },
          "metadata": {
            "tags": []
          }
        }
      ]
    },
    {
      "cell_type": "code",
      "metadata": {
        "id": "btu9Ld28Nqib",
        "colab_type": "code",
        "colab": {
          "base_uri": "https://localhost:8080/",
          "height": 119
        },
        "outputId": "316ed947-a329-41da-f33d-547b93f2edc7"
      },
      "source": [
        "learn.model"
      ],
      "execution_count": 88,
      "outputs": [
        {
          "output_type": "execute_result",
          "data": {
            "text/plain": [
              "EmbeddingDotBias(\n",
              "  (u_weight): Embedding(265863, 50)\n",
              "  (i_weight): Embedding(200, 50)\n",
              "  (u_bias): Embedding(265863, 1)\n",
              "  (i_bias): Embedding(200, 1)\n",
              ")"
            ]
          },
          "metadata": {
            "tags": []
          },
          "execution_count": 88
        }
      ]
    },
    {
      "cell_type": "code",
      "metadata": {
        "id": "jsmv4swqR_Oz",
        "colab_type": "code",
        "colab": {}
      },
      "source": [
        "title = \"Name\""
      ],
      "execution_count": 0,
      "outputs": []
    },
    {
      "cell_type": "code",
      "metadata": {
        "id": "Sfhd28j8RoH7",
        "colab_type": "code",
        "colab": {
          "base_uri": "https://localhost:8080/",
          "height": 51
        },
        "outputId": "5a84e9aa-c7fe-4df1-f09b-f515dbef4174"
      },
      "source": [
        "g = ratings.groupby(title)['Rating'].count()\n",
        "top_movies = g.sort_values(ascending=False).index.values[:1000]\n",
        "top_movies[:10]"
      ],
      "execution_count": 90,
      "outputs": [
        {
          "output_type": "execute_result",
          "data": {
            "text/plain": [
              "array([\"Something's Gotta Give\", 'X2: X-Men United', 'Reservoir Dogs', 'Taking Lives', 'Lilo and Stitch', 'The Game',\n",
              "       'Duplex (Widescreen)', 'Sweet November', 'Death to Smoochy', 'Rambo: First Blood Part II'], dtype=object)"
            ]
          },
          "metadata": {
            "tags": []
          },
          "execution_count": 90
        }
      ]
    },
    {
      "cell_type": "code",
      "metadata": {
        "id": "ln1mar0tSJRT",
        "colab_type": "code",
        "colab": {
          "base_uri": "https://localhost:8080/",
          "height": 34
        },
        "outputId": "1f277c8d-9714-480f-b921-94a9619a7bbd"
      },
      "source": [
        "movie_bias = learn.bias(top_movies, is_item=True)\n",
        "movie_bias.shape"
      ],
      "execution_count": 91,
      "outputs": [
        {
          "output_type": "execute_result",
          "data": {
            "text/plain": [
              "torch.Size([199])"
            ]
          },
          "metadata": {
            "tags": []
          },
          "execution_count": 91
        }
      ]
    },
    {
      "cell_type": "code",
      "metadata": {
        "id": "gpsMwTBxSh2x",
        "colab_type": "code",
        "colab": {}
      },
      "source": [
        "(user,items), ratings = next(iter(data.valid_dl))\n",
        "user = user.cpu()\n",
        "items = items.cpu()\n",
        "learn.model = learn.model.cpu()\n",
        "preds = learn.model(user,items)"
      ],
      "execution_count": 0,
      "outputs": []
    },
    {
      "cell_type": "code",
      "metadata": {
        "id": "HBwR8Y2RSvPi",
        "colab_type": "code",
        "colab": {
          "base_uri": "https://localhost:8080/",
          "height": 153
        },
        "outputId": "c2fdc2a6-4b8c-45fa-dbec-d788de4d0584"
      },
      "source": [
        "preds"
      ],
      "execution_count": 49,
      "outputs": [
        {
          "output_type": "execute_result",
          "data": {
            "text/plain": [
              "tensor([3.8036, 3.8036, 3.2179, 3.8036, 3.7533, 3.8036, 3.8036, 3.8300, 3.8036,\n",
              "        2.1991, 3.0251, 3.7945, 2.9778, 3.2179, 3.0070, 3.8036, 3.6796, 3.6915,\n",
              "        3.8036, 3.8036, 3.8036, 3.5807, 3.7923, 3.2860, 3.7945, 3.2179, 3.8036,\n",
              "        3.7533, 1.7016, 2.9053, 3.8036, 3.8036, 3.3863, 3.7945, 3.2179, 2.9053,\n",
              "        3.8036, 3.2179, 3.6122, 3.2179, 3.4004, 3.8036, 3.8803, 3.7945, 2.9053,\n",
              "        3.8036, 2.7374, 3.9776, 3.0241, 4.1045, 3.6991, 3.1305, 3.8484, 3.8036,\n",
              "        3.6144, 3.6785, 3.7533, 3.8036, 3.7360, 3.5974, 3.8036, 3.8036, 4.0683,\n",
              "        3.8036])"
            ]
          },
          "metadata": {
            "tags": []
          },
          "execution_count": 49
        }
      ]
    },
    {
      "cell_type": "code",
      "metadata": {
        "id": "nzDN_oenSyGI",
        "colab_type": "code",
        "colab": {
          "base_uri": "https://localhost:8080/",
          "height": 85
        },
        "outputId": "0f3fe5a2-6485-4b15-a0c3-a2fe69b14794"
      },
      "source": [
        "items"
      ],
      "execution_count": 55,
      "outputs": [
        {
          "output_type": "execute_result",
          "data": {
            "text/plain": [
              "tensor([15, 15, 30, 15, 27, 15, 15, 15, 15, 21,  1, 12, 17, 30, 11, 15,  9,  5,\n",
              "        15, 15, 15,  5, 15, 30, 12, 30, 15, 27,  3,  1, 15, 15, 30, 12, 30,  1,\n",
              "        15, 30, 27, 30, 30, 15, 12, 12,  1, 15, 21, 15, 26, 15, 12, 30, 12, 15,\n",
              "        15, 12, 27, 15, 27, 14, 15, 15, 12, 15])"
            ]
          },
          "metadata": {
            "tags": []
          },
          "execution_count": 55
        }
      ]
    },
    {
      "cell_type": "markdown",
      "metadata": {
        "id": "J7hpVXS-T7LG",
        "colab_type": "text"
      },
      "source": [
        "check the inference of the rating for a single user"
      ]
    },
    {
      "cell_type": "code",
      "metadata": {
        "id": "9DtJ3Jv3S7SK",
        "colab_type": "code",
        "colab": {}
      },
      "source": [
        "user = torch.tensor([3])\n",
        "items = torch.tensor([30])"
      ],
      "execution_count": 0,
      "outputs": []
    },
    {
      "cell_type": "code",
      "metadata": {
        "id": "Wgp_FjPuTr6l",
        "colab_type": "code",
        "colab": {}
      },
      "source": [
        "p = learn.model(user,items)"
      ],
      "execution_count": 0,
      "outputs": []
    },
    {
      "cell_type": "code",
      "metadata": {
        "id": "7p6TENJIT0VS",
        "colab_type": "code",
        "colab": {
          "base_uri": "https://localhost:8080/",
          "height": 34
        },
        "outputId": "f7480e0e-e8a3-48e1-ba37-4fe016be5e38"
      },
      "source": [
        "p"
      ],
      "execution_count": 58,
      "outputs": [
        {
          "output_type": "execute_result",
          "data": {
            "text/plain": [
              "tensor([3.3497])"
            ]
          },
          "metadata": {
            "tags": []
          },
          "execution_count": 58
        }
      ]
    },
    {
      "cell_type": "code",
      "metadata": {
        "id": "uRwa-h3qT1jG",
        "colab_type": "code",
        "colab": {}
      },
      "source": [
        "mean_ratings = ratings.groupby(title)['Rating'].mean()\n",
        "movie_ratings = [(b, i, mean_ratings.loc[i]) for i,b in zip(top_movies,movie_bias)]"
      ],
      "execution_count": 0,
      "outputs": []
    },
    {
      "cell_type": "code",
      "metadata": {
        "id": "BslhuWTsU0pL",
        "colab_type": "code",
        "colab": {}
      },
      "source": [
        "item0 = lambda o:o[0]"
      ],
      "execution_count": 0,
      "outputs": []
    },
    {
      "cell_type": "code",
      "metadata": {
        "id": "4mjiwwPfVCIs",
        "colab_type": "code",
        "colab": {
          "base_uri": "https://localhost:8080/",
          "height": 306
        },
        "outputId": "7222b367-9417-4497-94fc-e71cb67b1f3b"
      },
      "source": [
        "sorted(movie_ratings, key=item0)[:15]"
      ],
      "execution_count": 97,
      "outputs": [
        {
          "output_type": "execute_result",
          "data": {
            "text/plain": [
              "[(tensor(-0.5539), 'Daydream Obsession', 2.0511221945137157),\n",
              " (tensor(-0.4918), 'Darkwolf', 2.1481481481481484),\n",
              " (tensor(-0.4661), 'The Bonesetter', 1.6754385964912282),\n",
              " (tensor(-0.4634), 'Sleepover Nightmare', 1.9545454545454546),\n",
              " (tensor(-0.4057), 'Iron Monkey 2', 1.9545454545454546),\n",
              " (tensor(-0.4006), 'The Libertine', 2.1491525423728812),\n",
              " (tensor(-0.3586), 'Horror Vision', 1.6344086021505377),\n",
              " (tensor(-0.3396),\n",
              "  'Cannibal Women in the Avocado Jungle of Death',\n",
              "  2.420765027322404),\n",
              " (tensor(-0.3241), 'Lost in the Pershing Point Hotel', 2.3294573643410854),\n",
              " (tensor(-0.3210), 'Love Reinvented', 2.4361702127659575),\n",
              " (tensor(-0.3105), 'Chump Change', 2.2463054187192117),\n",
              " (tensor(-0.3089), 'Barbarian Queen 2', 2.2951807228915664),\n",
              " (tensor(-0.2920), 'The Last Shot', 2.6000562113546937),\n",
              " (tensor(-0.2762), 'Searching for Paradise', 2.328125),\n",
              " (tensor(-0.2733), 'Where Sleeping Dogs Lie', 2.16793893129771)]"
            ]
          },
          "metadata": {
            "tags": []
          },
          "execution_count": 97
        }
      ]
    },
    {
      "cell_type": "code",
      "metadata": {
        "id": "ssG3AZVXVExk",
        "colab_type": "code",
        "colab": {
          "base_uri": "https://localhost:8080/",
          "height": 408
        },
        "outputId": "b892e615-0753-45a6-d828-314a4863075d"
      },
      "source": [
        "sorted(movie_ratings, key=lambda o: o[0], reverse=True)[:15]"
      ],
      "execution_count": 98,
      "outputs": [
        {
          "output_type": "execute_result",
          "data": {
            "text/plain": [
              "[(tensor(0.8648), 'Aqua Teen Hunger Force: Vol. 1', 4.168650217706822),\n",
              " (tensor(0.8340), 'The Chorus', 4.0922303573379954),\n",
              " (tensor(0.8058), 'Reservoir Dogs', 4.003847429519071),\n",
              " (tensor(0.7723), 'Invader Zim', 4.14259927797834),\n",
              " (tensor(0.7365), 'I Love Lucy: Season 2', 4.090385917400136),\n",
              " (tensor(0.7365), 'X2: X-Men United', 3.932202188006483),\n",
              " (tensor(0.7261), 'A Little Princess', 3.9340755293604017),\n",
              " (tensor(0.7244),\n",
              "  \"ABC Primetime: Mel Gibson's The Passion of the Christ\",\n",
              "  4.071736785329018),\n",
              " (tensor(0.6980),\n",
              "  'Stevie Ray Vaughan and Double Trouble: Live at Montreux 1982 & 1985',\n",
              "  4.097872340425532),\n",
              " (tensor(0.6717), 'Mostly Martha', 3.87182829336114),\n",
              " (tensor(0.6698), 'Star Trek: Voyager: Season 1', 3.9422340602630266),\n",
              " (tensor(0.6651), 'The Game', 3.853031645899588),\n",
              " (tensor(0.6585),\n",
              "  'Richard Pryor: Live on the Sunset Strip',\n",
              "  3.9169572798605055),\n",
              " (tensor(0.6302),\n",
              "  'Inspector Morse 31: Death Is Now My Neighbour',\n",
              "  3.9701739850869924),\n",
              " (tensor(0.6157), 'Lilo and Stitch', 3.823254175890521)]"
            ]
          },
          "metadata": {
            "tags": []
          },
          "execution_count": 98
        }
      ]
    },
    {
      "cell_type": "markdown",
      "metadata": {
        "id": "u94trrgKVdVY",
        "colab_type": "text"
      },
      "source": [
        "Movie weight"
      ]
    },
    {
      "cell_type": "code",
      "metadata": {
        "id": "yYB0if3MVS4V",
        "colab_type": "code",
        "colab": {
          "base_uri": "https://localhost:8080/",
          "height": 34
        },
        "outputId": "3c027ae9-c3d3-4227-e358-7587517e2826"
      },
      "source": [
        "movie_w = learn.weight(top_movies, is_item=True)\n",
        "movie_w.shape"
      ],
      "execution_count": 99,
      "outputs": [
        {
          "output_type": "execute_result",
          "data": {
            "text/plain": [
              "torch.Size([199, 50])"
            ]
          },
          "metadata": {
            "tags": []
          },
          "execution_count": 99
        }
      ]
    },
    {
      "cell_type": "code",
      "metadata": {
        "id": "JZxO5s_9Vif_",
        "colab_type": "code",
        "colab": {
          "base_uri": "https://localhost:8080/",
          "height": 34
        },
        "outputId": "d5be3e62-b2de-4ab0-e7ba-1790be36a5a4"
      },
      "source": [
        "movie_pca = movie_w.pca(3)\n",
        "movie_pca.shape"
      ],
      "execution_count": 100,
      "outputs": [
        {
          "output_type": "execute_result",
          "data": {
            "text/plain": [
              "torch.Size([199, 3])"
            ]
          },
          "metadata": {
            "tags": []
          },
          "execution_count": 100
        }
      ]
    },
    {
      "cell_type": "code",
      "metadata": {
        "id": "1Y5hts0vVriy",
        "colab_type": "code",
        "colab": {}
      },
      "source": [
        "fac0,fac1,fac2 = movie_pca.t()\n",
        "movie_comp = [(f, i) for f,i in zip(fac0, top_movies)]"
      ],
      "execution_count": 0,
      "outputs": []
    },
    {
      "cell_type": "code",
      "metadata": {
        "id": "NfJo4_F7Vwxd",
        "colab_type": "code",
        "colab": {
          "base_uri": "https://localhost:8080/",
          "height": 187
        },
        "outputId": "a710ae32-5dc8-442a-a79c-5002f87b3674"
      },
      "source": [
        "sorted(movie_comp, key=itemgetter(0), reverse=True)[:10]"
      ],
      "execution_count": 102,
      "outputs": [
        {
          "output_type": "execute_result",
          "data": {
            "text/plain": [
              "[(tensor(0.9007), 'The Killing'),\n",
              " (tensor(0.8868), 'The Bonesetter'),\n",
              " (tensor(0.8657), 'Chump Change'),\n",
              " (tensor(0.7263), 'IFilm: Deranged'),\n",
              " (tensor(0.7243), 'Ninotchka'),\n",
              " (tensor(0.6779), 'Chain of Fools'),\n",
              " (tensor(0.6716), 'Magnolia: Bonus Material'),\n",
              " (tensor(0.6487), 'The Libertine'),\n",
              " (tensor(0.6200), 'Vampire Journals'),\n",
              " (tensor(0.6039), 'Marilyn Manson: Fear of a Satanic Planet')]"
            ]
          },
          "metadata": {
            "tags": []
          },
          "execution_count": 102
        }
      ]
    },
    {
      "cell_type": "code",
      "metadata": {
        "id": "guKVOVrWWCZh",
        "colab_type": "code",
        "colab": {
          "base_uri": "https://localhost:8080/",
          "height": 187
        },
        "outputId": "ca3c733f-68dc-4492-a5ab-5be999b5fea8"
      },
      "source": [
        "sorted(movie_comp, key=itemgetter(0))[:10]"
      ],
      "execution_count": 103,
      "outputs": [
        {
          "output_type": "execute_result",
          "data": {
            "text/plain": [
              "[(tensor(-1.9173), 'Taking Lives'),\n",
              " (tensor(-1.6608), 'Congo'),\n",
              " (tensor(-1.5931), 'Rambo: First Blood Part II'),\n",
              " (tensor(-1.5198), 'Dragonheart'),\n",
              " (tensor(-1.4840), 'Sweet November'),\n",
              " (tensor(-1.2965), \"Something's Gotta Give\"),\n",
              " (tensor(-1.2594), 'Lilo and Stitch'),\n",
              " (tensor(-1.2248), 'Fatal Beauty'),\n",
              " (tensor(-1.2015), 'Jingle All the Way'),\n",
              " (tensor(-1.1569), 'X2: X-Men United')]"
            ]
          },
          "metadata": {
            "tags": []
          },
          "execution_count": 103
        }
      ]
    },
    {
      "cell_type": "code",
      "metadata": {
        "id": "DMmAS_4xWNvA",
        "colab_type": "code",
        "colab": {}
      },
      "source": [
        "movie_comp = [(f, i) for f,i in zip(fac1, top_movies)]"
      ],
      "execution_count": 0,
      "outputs": []
    },
    {
      "cell_type": "code",
      "metadata": {
        "id": "qVv9do63WSWy",
        "colab_type": "code",
        "colab": {
          "base_uri": "https://localhost:8080/",
          "height": 187
        },
        "outputId": "257817af-8774-4205-f2af-0d40daf0b4bd"
      },
      "source": [
        "sorted(movie_comp, key=itemgetter(0), reverse=True)[:10]"
      ],
      "execution_count": 105,
      "outputs": [
        {
          "output_type": "execute_result",
          "data": {
            "text/plain": [
              "[(tensor(1.4451), 'Reservoir Dogs'),\n",
              " (tensor(1.2465), 'Aqua Teen Hunger Force: Vol. 1'),\n",
              " (tensor(1.0596), 'Invader Zim'),\n",
              " (tensor(1.0110), 'The Rise and Fall of ECW'),\n",
              " (tensor(0.7616), 'Scratch'),\n",
              " (tensor(0.7293), 'Record of Lodoss War: Chronicles of the Heroic Knight'),\n",
              " (tensor(0.6848), 'Husbands and Wives'),\n",
              " (tensor(0.6827), 'The Powerpuff Girls Movie'),\n",
              " (tensor(0.6282), 'Death to Smoochy'),\n",
              " (tensor(0.6202), 'Richard Pryor: Live on the Sunset Strip')]"
            ]
          },
          "metadata": {
            "tags": []
          },
          "execution_count": 105
        }
      ]
    },
    {
      "cell_type": "code",
      "metadata": {
        "id": "-8XEIX_mWgyT",
        "colab_type": "code",
        "colab": {
          "base_uri": "https://localhost:8080/",
          "height": 34
        },
        "outputId": "eb4c7a9f-38c1-486a-8055-8ca5f2ffbf9c"
      },
      "source": [
        "len(top_movies)"
      ],
      "execution_count": 74,
      "outputs": [
        {
          "output_type": "execute_result",
          "data": {
            "text/plain": [
              "30"
            ]
          },
          "metadata": {
            "tags": []
          },
          "execution_count": 74
        }
      ]
    },
    {
      "cell_type": "code",
      "metadata": {
        "id": "ojokFf_6WVL_",
        "colab_type": "code",
        "colab": {
          "base_uri": "https://localhost:8080/",
          "height": 867
        },
        "outputId": "d96b6c35-aaaa-40e0-c40d-6edeff87b51b"
      },
      "source": [
        "idxs = np.random.choice(len(top_movies), 20, replace=False)\n",
        "idxs = list(range(20))\n",
        "X = fac0[idxs]\n",
        "Y = fac2[idxs]\n",
        "plt.figure(figsize=(15,15))\n",
        "plt.scatter(X, Y)\n",
        "for i, x, y in zip(top_movies[idxs], X, Y):\n",
        "    plt.text(x,y,i, color=np.random.rand(3)*0.7, fontsize=11)\n",
        "plt.show()"
      ],
      "execution_count": 106,
      "outputs": [
        {
          "output_type": "display_data",
          "data": {
            "image/png": "[encoded data removed]",
            "text/plain": [
              "<Figure size 1080x1080 with 1 Axes>"
            ]
          },
          "metadata": {
            "tags": []
          }
        }
      ]
    },
    {
      "cell_type": "code",
      "metadata": {
        "id": "h4098qT7WZH6",
        "colab_type": "code",
        "colab": {}
      },
      "source": [
        ""
      ],
      "execution_count": 0,
      "outputs": []
    }
  ]
}